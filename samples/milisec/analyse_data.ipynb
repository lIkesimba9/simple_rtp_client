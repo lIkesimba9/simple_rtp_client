{
 "cells": [
  {
   "cell_type": "code",
   "execution_count": 1,
   "metadata": {},
   "outputs": [],
   "source": [
    "import matplotlib.pyplot as plt\n",
    "import pandas as pd"
   ]
  },
  {
   "cell_type": "code",
   "execution_count": 2,
   "metadata": {},
   "outputs": [
    {
     "data": {
      "text/html": [
       "<div>\n",
       "<style scoped>\n",
       "    .dataframe tbody tr th:only-of-type {\n",
       "        vertical-align: middle;\n",
       "    }\n",
       "\n",
       "    .dataframe tbody tr th {\n",
       "        vertical-align: top;\n",
       "    }\n",
       "\n",
       "    .dataframe thead th {\n",
       "        text-align: right;\n",
       "    }\n",
       "</style>\n",
       "<table border=\"1\" class=\"dataframe\">\n",
       "  <thead>\n",
       "    <tr style=\"text-align: right;\">\n",
       "      <th></th>\n",
       "      <th>RecvTime</th>\n",
       "      <th>oldRecvTime</th>\n",
       "      <th>SendTime</th>\n",
       "      <th>oldSendTime</th>\n",
       "    </tr>\n",
       "  </thead>\n",
       "  <tbody>\n",
       "    <tr>\n",
       "      <th>0</th>\n",
       "      <td>59258</td>\n",
       "      <td>59258</td>\n",
       "      <td>59057</td>\n",
       "      <td>59057</td>\n",
       "    </tr>\n",
       "    <tr>\n",
       "      <th>1</th>\n",
       "      <td>59258</td>\n",
       "      <td>59258</td>\n",
       "      <td>59057</td>\n",
       "      <td>59057</td>\n",
       "    </tr>\n",
       "    <tr>\n",
       "      <th>2</th>\n",
       "      <td>59258</td>\n",
       "      <td>59258</td>\n",
       "      <td>59057</td>\n",
       "      <td>59057</td>\n",
       "    </tr>\n",
       "    <tr>\n",
       "      <th>3</th>\n",
       "      <td>59258</td>\n",
       "      <td>59258</td>\n",
       "      <td>59057</td>\n",
       "      <td>59057</td>\n",
       "    </tr>\n",
       "    <tr>\n",
       "      <th>4</th>\n",
       "      <td>59258</td>\n",
       "      <td>59258</td>\n",
       "      <td>59057</td>\n",
       "      <td>59057</td>\n",
       "    </tr>\n",
       "  </tbody>\n",
       "</table>\n",
       "</div>"
      ],
      "text/plain": [
       "   RecvTime  oldRecvTime  SendTime  oldSendTime\n",
       "0     59258        59258     59057        59057\n",
       "1     59258        59258     59057        59057\n",
       "2     59258        59258     59057        59057\n",
       "3     59258        59258     59057        59057\n",
       "4     59258        59258     59057        59057"
      ]
     },
     "execution_count": 2,
     "metadata": {},
     "output_type": "execute_result"
    }
   ],
   "source": [
    "df = pd.read_csv(\"onlocalhost.csv\")\n",
    "df.head()"
   ]
  },
  {
   "cell_type": "code",
   "execution_count": 3,
   "metadata": {},
   "outputs": [],
   "source": [
    "diff = pd.DataFrame( {\"diff\":(df[\"RecvTime\"] - df[\"oldRecvTime\"] - (df[\"SendTime\"] - df[\"oldSendTime\"]))})\n",
    "diff = diff[(diff[\"diff\"] < 50000)]\n",
    "diff = diff[(diff[\"diff\"] > -50000)]"
   ]
  },
  {
   "cell_type": "code",
   "execution_count": 4,
   "metadata": {},
   "outputs": [
    {
     "data": {
      "image/png": "[encoded data removed]",
      "text/plain": [
       "<Figure size 432x288 with 1 Axes>"
      ]
     },
     "metadata": {
      "needs_background": "light"
     },
     "output_type": "display_data"
    }
   ],
   "source": [
    "fig, ax1 = plt.subplots()\n",
    "\n",
    "color = 'tab:red'\n",
    "ax1.set_xlabel('Порядковый номер')\n",
    "ax1.set_ylabel('diff', color=color)  # we already handled the x-label with ax1\n",
    "ax1.plot(diff,color=color)\n",
    "plt.title(\"График построен на основе данных с localhost\")\n",
    "plt.show()"
   ]
  },
  {
   "cell_type": "code",
   "execution_count": 7,
   "metadata": {},
   "outputs": [
    {
     "data": {
      "text/html": [
       "<div>\n",
       "<style scoped>\n",
       "    .dataframe tbody tr th:only-of-type {\n",
       "        vertical-align: middle;\n",
       "    }\n",
       "\n",
       "    .dataframe tbody tr th {\n",
       "        vertical-align: top;\n",
       "    }\n",
       "\n",
       "    .dataframe thead th {\n",
       "        text-align: right;\n",
       "    }\n",
       "</style>\n",
       "<table border=\"1\" class=\"dataframe\">\n",
       "  <thead>\n",
       "    <tr style=\"text-align: right;\">\n",
       "      <th></th>\n",
       "      <th>RecvTime</th>\n",
       "      <th>oldRecvTime</th>\n",
       "      <th>SendTime</th>\n",
       "      <th>oldSendTime</th>\n",
       "    </tr>\n",
       "  </thead>\n",
       "  <tbody>\n",
       "    <tr>\n",
       "      <th>0</th>\n",
       "      <td>40399</td>\n",
       "      <td>40399</td>\n",
       "      <td>40166</td>\n",
       "      <td>40166</td>\n",
       "    </tr>\n",
       "    <tr>\n",
       "      <th>1</th>\n",
       "      <td>40399</td>\n",
       "      <td>40399</td>\n",
       "      <td>40166</td>\n",
       "      <td>40166</td>\n",
       "    </tr>\n",
       "    <tr>\n",
       "      <th>2</th>\n",
       "      <td>40399</td>\n",
       "      <td>40399</td>\n",
       "      <td>40166</td>\n",
       "      <td>40166</td>\n",
       "    </tr>\n",
       "    <tr>\n",
       "      <th>3</th>\n",
       "      <td>40399</td>\n",
       "      <td>40399</td>\n",
       "      <td>40166</td>\n",
       "      <td>40166</td>\n",
       "    </tr>\n",
       "    <tr>\n",
       "      <th>4</th>\n",
       "      <td>40399</td>\n",
       "      <td>40399</td>\n",
       "      <td>40166</td>\n",
       "      <td>40166</td>\n",
       "    </tr>\n",
       "  </tbody>\n",
       "</table>\n",
       "</div>"
      ],
      "text/plain": [
       "   RecvTime  oldRecvTime  SendTime  oldSendTime\n",
       "0     40399        40399     40166        40166\n",
       "1     40399        40399     40166        40166\n",
       "2     40399        40399     40166        40166\n",
       "3     40399        40399     40166        40166\n",
       "4     40399        40399     40166        40166"
      ]
     },
     "execution_count": 7,
     "metadata": {},
     "output_type": "execute_result"
    }
   ],
   "source": [
    "df = pd.read_csv(\"25mschannel.csv\")\n",
    "df.head()"
   ]
  },
  {
   "cell_type": "code",
   "execution_count": 8,
   "metadata": {},
   "outputs": [],
   "source": [
    "diff = pd.DataFrame( {\"diff\":(df[\"RecvTime\"] - df[\"oldRecvTime\"] - (df[\"SendTime\"] - df[\"oldSendTime\"]))})\n",
    "diff = diff[(diff[\"diff\"] < 50000)]\n",
    "diff = diff[(diff[\"diff\"] > -50000)]"
   ]
  },
  {
   "cell_type": "code",
   "execution_count": 9,
   "metadata": {},
   "outputs": [
    {
     "data": {
      "image/png": "[encoded data removed]",
      "text/plain": [
       "<Figure size 432x288 with 1 Axes>"
      ]
     },
     "metadata": {
      "needs_background": "light"
     },
     "output_type": "display_data"
    }
   ],
   "source": [
    "fig, ax1 = plt.subplots()\n",
    "\n",
    "color = 'tab:red'\n",
    "ax1.set_xlabel('Порядковый номер')\n",
    "ax1.set_ylabel('diff', color=color)  # we already handled the x-label with ax1\n",
    "ax1.plot(diff,color=color)\n",
    "\n",
    "plt.title(\"\"\"График построен на основе данных, при пропуске трафика через omnet, \n",
    "значение задержки канала было равно 25, а пинг был между 40 и 80\"\"\")\n",
    "plt.show()"
   ]
  },
  {
   "cell_type": "code",
   "execution_count": 10,
   "metadata": {},
   "outputs": [
    {
     "data": {
      "text/html": [
       "<div>\n",
       "<style scoped>\n",
       "    .dataframe tbody tr th:only-of-type {\n",
       "        vertical-align: middle;\n",
       "    }\n",
       "\n",
       "    .dataframe tbody tr th {\n",
       "        vertical-align: top;\n",
       "    }\n",
       "\n",
       "    .dataframe thead th {\n",
       "        text-align: right;\n",
       "    }\n",
       "</style>\n",
       "<table border=\"1\" class=\"dataframe\">\n",
       "  <thead>\n",
       "    <tr style=\"text-align: right;\">\n",
       "      <th></th>\n",
       "      <th>RecvTime</th>\n",
       "      <th>oldRecvTime</th>\n",
       "      <th>SendTime</th>\n",
       "      <th>oldSendTime</th>\n",
       "    </tr>\n",
       "  </thead>\n",
       "  <tbody>\n",
       "    <tr>\n",
       "      <th>0</th>\n",
       "      <td>56156</td>\n",
       "      <td>56156</td>\n",
       "      <td>55859</td>\n",
       "      <td>55859</td>\n",
       "    </tr>\n",
       "    <tr>\n",
       "      <th>1</th>\n",
       "      <td>56156</td>\n",
       "      <td>56156</td>\n",
       "      <td>55859</td>\n",
       "      <td>55859</td>\n",
       "    </tr>\n",
       "    <tr>\n",
       "      <th>2</th>\n",
       "      <td>56156</td>\n",
       "      <td>56156</td>\n",
       "      <td>55859</td>\n",
       "      <td>55859</td>\n",
       "    </tr>\n",
       "    <tr>\n",
       "      <th>3</th>\n",
       "      <td>56156</td>\n",
       "      <td>56156</td>\n",
       "      <td>55859</td>\n",
       "      <td>55859</td>\n",
       "    </tr>\n",
       "    <tr>\n",
       "      <th>4</th>\n",
       "      <td>56156</td>\n",
       "      <td>56156</td>\n",
       "      <td>55859</td>\n",
       "      <td>55859</td>\n",
       "    </tr>\n",
       "  </tbody>\n",
       "</table>\n",
       "</div>"
      ],
      "text/plain": [
       "   RecvTime  oldRecvTime  SendTime  oldSendTime\n",
       "0     56156        56156     55859        55859\n",
       "1     56156        56156     55859        55859\n",
       "2     56156        56156     55859        55859\n",
       "3     56156        56156     55859        55859\n",
       "4     56156        56156     55859        55859"
      ]
     },
     "execution_count": 10,
     "metadata": {},
     "output_type": "execute_result"
    }
   ],
   "source": [
    "df = pd.read_csv(\"70mschannel.csv\")\n",
    "df.head()"
   ]
  },
  {
   "cell_type": "code",
   "execution_count": 11,
   "metadata": {},
   "outputs": [],
   "source": [
    "diff = pd.DataFrame( {\"diff\":(df[\"RecvTime\"] - df[\"oldRecvTime\"] - (df[\"SendTime\"] - df[\"oldSendTime\"]))})\n",
    "diff = diff[(diff[\"diff\"] < 50000)]\n",
    "diff = diff[(diff[\"diff\"] > -50000)]"
   ]
  },
  {
   "cell_type": "code",
   "execution_count": 12,
   "metadata": {},
   "outputs": [
    {
     "data": {
      "image/png": "[encoded data removed]",
      "text/plain": [
       "<Figure size 432x288 with 1 Axes>"
      ]
     },
     "metadata": {
      "needs_background": "light"
     },
     "output_type": "display_data"
    }
   ],
   "source": [
    "fig, ax1 = plt.subplots()\n",
    "\n",
    "color = 'tab:red'\n",
    "ax1.set_xlabel('Порядковый номер')\n",
    "ax1.set_ylabel('diff', color=color)  # we already handled the x-label with ax1\n",
    "ax1.plot(diff,color=color)\n",
    "plt.title(\"\"\"График построен на основе данных, при пропуске трафика через omnet, \n",
    "значение задержки канала равно 70, пинг между 150 и 190\"\"\")\n",
    "plt.show()\n"
   ]
  },
  {
   "cell_type": "code",
   "execution_count": 25,
   "metadata": {},
   "outputs": [
    {
     "data": {
      "text/html": [
       "<div>\n",
       "<style scoped>\n",
       "    .dataframe tbody tr th:only-of-type {\n",
       "        vertical-align: middle;\n",
       "    }\n",
       "\n",
       "    .dataframe tbody tr th {\n",
       "        vertical-align: top;\n",
       "    }\n",
       "\n",
       "    .dataframe thead th {\n",
       "        text-align: right;\n",
       "    }\n",
       "</style>\n",
       "<table border=\"1\" class=\"dataframe\">\n",
       "  <thead>\n",
       "    <tr style=\"text-align: right;\">\n",
       "      <th></th>\n",
       "      <th>RecvTime</th>\n",
       "      <th>oldRecvTime</th>\n",
       "      <th>SendTime</th>\n",
       "      <th>oldSendTime</th>\n",
       "    </tr>\n",
       "  </thead>\n",
       "  <tbody>\n",
       "    <tr>\n",
       "      <th>0</th>\n",
       "      <td>52437</td>\n",
       "      <td>52437</td>\n",
       "      <td>52204</td>\n",
       "      <td>52189</td>\n",
       "    </tr>\n",
       "    <tr>\n",
       "      <th>1</th>\n",
       "      <td>52437</td>\n",
       "      <td>52437</td>\n",
       "      <td>52204</td>\n",
       "      <td>52204</td>\n",
       "    </tr>\n",
       "    <tr>\n",
       "      <th>2</th>\n",
       "      <td>52437</td>\n",
       "      <td>52437</td>\n",
       "      <td>52204</td>\n",
       "      <td>52204</td>\n",
       "    </tr>\n",
       "    <tr>\n",
       "      <th>3</th>\n",
       "      <td>52437</td>\n",
       "      <td>52437</td>\n",
       "      <td>52204</td>\n",
       "      <td>52204</td>\n",
       "    </tr>\n",
       "    <tr>\n",
       "      <th>4</th>\n",
       "      <td>52437</td>\n",
       "      <td>52437</td>\n",
       "      <td>52204</td>\n",
       "      <td>52204</td>\n",
       "    </tr>\n",
       "  </tbody>\n",
       "</table>\n",
       "</div>"
      ],
      "text/plain": [
       "   RecvTime  oldRecvTime  SendTime  oldSendTime\n",
       "0     52437        52437     52204        52189\n",
       "1     52437        52437     52204        52204\n",
       "2     52437        52437     52204        52204\n",
       "3     52437        52437     52204        52204\n",
       "4     52437        52437     52204        52204"
      ]
     },
     "execution_count": 25,
     "metadata": {},
     "output_type": "execute_result"
    }
   ],
   "source": [
    "df = pd.read_csv(\"500rate.csv\")\n",
    "df.head()"
   ]
  },
  {
   "cell_type": "code",
   "execution_count": 26,
   "metadata": {},
   "outputs": [],
   "source": [
    "diff = pd.DataFrame( {\"diff\":(df[\"RecvTime\"] - df[\"oldRecvTime\"] - (df[\"SendTime\"] - df[\"oldSendTime\"]))})\n",
    "diff = diff[(diff[\"diff\"] < 60000)]\n",
    "diff = diff[(diff[\"diff\"] > -60000)]"
   ]
  },
  {
   "cell_type": "code",
   "execution_count": 27,
   "metadata": {},
   "outputs": [
    {
     "data": {
      "image/png": "[encoded data removed]",
      "text/plain": [
       "<Figure size 432x288 with 1 Axes>"
      ]
     },
     "metadata": {
      "needs_background": "light"
     },
     "output_type": "display_data"
    }
   ],
   "source": [
    "fig, ax1 = plt.subplots()\n",
    "\n",
    "color = 'tab:red'\n",
    "ax1.set_xlabel('Порядковый номер')\n",
    "ax1.set_ylabel('diff', color=color)  # we already handled the x-label with ax1\n",
    "ax1.plot(diff,color=color)\n",
    "plt.title(\"\"\"График построен на основе данных, при пропуске трафика через omnet, \n",
    "на 250 секунде, снизил пропускную до 500кбит, картинка начала потихоньку плыть\"\"\")\n",
    "plt.show()"
   ]
  },
  {
   "cell_type": "code",
   "execution_count": null,
   "metadata": {},
   "outputs": [],
   "source": []
  }
 ],
 "metadata": {
  "kernelspec": {
   "display_name": "Python 3",
   "language": "python",
   "name": "python3"
  },
  "language_info": {
   "codemirror_mode": {
    "name": "ipython",
    "version": 3
   },
   "file_extension": ".py",
   "mimetype": "text/x-python",
   "name": "python",
   "nbconvert_exporter": "python",
   "pygments_lexer": "ipython3",
   "version": "3.8.5"
  },
  "latex_envs": {
   "LaTeX_envs_menu_present": true,
   "autoclose": false,
   "autocomplete": true,
   "bibliofile": "biblio.bib",
   "cite_by": "apalike",
   "current_citInitial": 1,
   "eqLabelWithNumbers": true,
   "eqNumInitial": 1,
   "hotkeys": {
    "equation": "Ctrl-E",
    "itemize": "Ctrl-I"
   },
   "labels_anchors": false,
   "latex_user_defs": false,
   "report_style_numbering": false,
   "user_envs_cfg": false
  }
 },
 "nbformat": 4,
 "nbformat_minor": 4
}
