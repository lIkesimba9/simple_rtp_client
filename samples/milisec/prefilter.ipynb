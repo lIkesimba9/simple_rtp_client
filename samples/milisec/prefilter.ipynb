{
 "cells": [
  {
   "cell_type": "code",
   "execution_count": 102,
   "metadata": {},
   "outputs": [
    {
     "data": {
      "text/html": [
       "<div>\n",
       "<style scoped>\n",
       "    .dataframe tbody tr th:only-of-type {\n",
       "        vertical-align: middle;\n",
       "    }\n",
       "\n",
       "    .dataframe tbody tr th {\n",
       "        vertical-align: top;\n",
       "    }\n",
       "\n",
       "    .dataframe thead th {\n",
       "        text-align: right;\n",
       "    }\n",
       "</style>\n",
       "<table border=\"1\" class=\"dataframe\">\n",
       "  <thead>\n",
       "    <tr style=\"text-align: right;\">\n",
       "      <th></th>\n",
       "      <th>RecvTime</th>\n",
       "      <th>oldRecvTime</th>\n",
       "      <th>SendTime</th>\n",
       "      <th>oldSendTime</th>\n",
       "    </tr>\n",
       "  </thead>\n",
       "  <tbody>\n",
       "    <tr>\n",
       "      <th>0</th>\n",
       "      <td>52437</td>\n",
       "      <td>52437</td>\n",
       "      <td>52204</td>\n",
       "      <td>52189</td>\n",
       "    </tr>\n",
       "    <tr>\n",
       "      <th>1</th>\n",
       "      <td>52437</td>\n",
       "      <td>52437</td>\n",
       "      <td>52204</td>\n",
       "      <td>52204</td>\n",
       "    </tr>\n",
       "    <tr>\n",
       "      <th>2</th>\n",
       "      <td>52437</td>\n",
       "      <td>52437</td>\n",
       "      <td>52204</td>\n",
       "      <td>52204</td>\n",
       "    </tr>\n",
       "    <tr>\n",
       "      <th>3</th>\n",
       "      <td>52437</td>\n",
       "      <td>52437</td>\n",
       "      <td>52204</td>\n",
       "      <td>52204</td>\n",
       "    </tr>\n",
       "    <tr>\n",
       "      <th>4</th>\n",
       "      <td>52437</td>\n",
       "      <td>52437</td>\n",
       "      <td>52204</td>\n",
       "      <td>52204</td>\n",
       "    </tr>\n",
       "  </tbody>\n",
       "</table>\n",
       "</div>"
      ],
      "text/plain": [
       "   RecvTime  oldRecvTime  SendTime  oldSendTime\n",
       "0     52437        52437     52204        52189\n",
       "1     52437        52437     52204        52204\n",
       "2     52437        52437     52204        52204\n",
       "3     52437        52437     52204        52204\n",
       "4     52437        52437     52204        52204"
      ]
     },
     "execution_count": 102,
     "metadata": {},
     "output_type": "execute_result"
    }
   ],
   "source": [
    "import matplotlib.pyplot as plt\n",
    "import pandas as pd\n",
    "df = pd.read_csv(\"500rate.csv\")\n",
    "df.head()"
   ]
  },
  {
   "cell_type": "code",
   "execution_count": 103,
   "metadata": {},
   "outputs": [
    {
     "data": {
      "text/html": [
       "<div>\n",
       "<style scoped>\n",
       "    .dataframe tbody tr th:only-of-type {\n",
       "        vertical-align: middle;\n",
       "    }\n",
       "\n",
       "    .dataframe tbody tr th {\n",
       "        vertical-align: top;\n",
       "    }\n",
       "\n",
       "    .dataframe thead th {\n",
       "        text-align: right;\n",
       "    }\n",
       "</style>\n",
       "<table border=\"1\" class=\"dataframe\">\n",
       "  <thead>\n",
       "    <tr style=\"text-align: right;\">\n",
       "      <th></th>\n",
       "      <th>RecvTime</th>\n",
       "      <th>oldRecvTime</th>\n",
       "      <th>SendTime</th>\n",
       "      <th>oldSendTime</th>\n",
       "      <th>diff</th>\n",
       "    </tr>\n",
       "  </thead>\n",
       "  <tbody>\n",
       "    <tr>\n",
       "      <th>0</th>\n",
       "      <td>52437</td>\n",
       "      <td>52437</td>\n",
       "      <td>52204</td>\n",
       "      <td>52189</td>\n",
       "      <td>-15</td>\n",
       "    </tr>\n",
       "    <tr>\n",
       "      <th>1</th>\n",
       "      <td>52437</td>\n",
       "      <td>52437</td>\n",
       "      <td>52204</td>\n",
       "      <td>52204</td>\n",
       "      <td>0</td>\n",
       "    </tr>\n",
       "    <tr>\n",
       "      <th>2</th>\n",
       "      <td>52437</td>\n",
       "      <td>52437</td>\n",
       "      <td>52204</td>\n",
       "      <td>52204</td>\n",
       "      <td>0</td>\n",
       "    </tr>\n",
       "    <tr>\n",
       "      <th>3</th>\n",
       "      <td>52437</td>\n",
       "      <td>52437</td>\n",
       "      <td>52204</td>\n",
       "      <td>52204</td>\n",
       "      <td>0</td>\n",
       "    </tr>\n",
       "    <tr>\n",
       "      <th>4</th>\n",
       "      <td>52437</td>\n",
       "      <td>52437</td>\n",
       "      <td>52204</td>\n",
       "      <td>52204</td>\n",
       "      <td>0</td>\n",
       "    </tr>\n",
       "  </tbody>\n",
       "</table>\n",
       "</div>"
      ],
      "text/plain": [
       "   RecvTime  oldRecvTime  SendTime  oldSendTime  diff\n",
       "0     52437        52437     52204        52189   -15\n",
       "1     52437        52437     52204        52204     0\n",
       "2     52437        52437     52204        52204     0\n",
       "3     52437        52437     52204        52204     0\n",
       "4     52437        52437     52204        52204     0"
      ]
     },
     "execution_count": 103,
     "metadata": {},
     "output_type": "execute_result"
    }
   ],
   "source": [
    "d = df[\"RecvTime\"] - df[\"oldRecvTime\"] - (df[\"SendTime\"] - df[\"oldSendTime\"])\n",
    "df['diff']= d\n",
    "df.head()"
   ]
  },
  {
   "cell_type": "code",
   "execution_count": 104,
   "metadata": {},
   "outputs": [],
   "source": [
    "preFilterDF = { \"RecvTime\": [], \n",
    "                \"oldRecvTime\":[],\n",
    "                \"SendTime\":[],\n",
    "                \"oldSendTime\":[],\n",
    "                \"diff\":[]}\n"
   ]
  },
  {
   "cell_type": "code",
   "execution_count": 105,
   "metadata": {},
   "outputs": [],
   "source": [
    "tR = df[\"RecvTime\"][0]\n",
    "#print(abs(tR - tR -2))\n",
    "for index,line in df.iterrows():\n",
    "    curR = int(line[\"RecvTime\"])\n",
    "    diff = int(line[\"diff\"])\n",
    "    if ( (abs(curR - tR) >= 5) or (diff < 0) ):\n",
    "        tR = curR\n",
    "        \n",
    "        preFilterDF[\"RecvTime\"].append(line[\"RecvTime\"])\n",
    "        preFilterDF[\"oldRecvTime\"].append(line[\"oldRecvTime\"])\n",
    "        preFilterDF[\"SendTime\"].append(line[\"SendTime\"])\n",
    "        preFilterDF[\"oldSendTime\"].append(line[\"oldSendTime\"])\n",
    "        preFilterDF[\"diff\"].append(line[\"diff\"])\n",
    "    \n",
    "    "
   ]
  },
  {
   "cell_type": "code",
   "execution_count": 106,
   "metadata": {},
   "outputs": [],
   "source": [
    "preFilter = pd.DataFrame(preFilterDF)"
   ]
  },
  {
   "cell_type": "code",
   "execution_count": 107,
   "metadata": {},
   "outputs": [
    {
     "data": {
      "text/html": [
       "<div>\n",
       "<style scoped>\n",
       "    .dataframe tbody tr th:only-of-type {\n",
       "        vertical-align: middle;\n",
       "    }\n",
       "\n",
       "    .dataframe tbody tr th {\n",
       "        vertical-align: top;\n",
       "    }\n",
       "\n",
       "    .dataframe thead th {\n",
       "        text-align: right;\n",
       "    }\n",
       "</style>\n",
       "<table border=\"1\" class=\"dataframe\">\n",
       "  <thead>\n",
       "    <tr style=\"text-align: right;\">\n",
       "      <th></th>\n",
       "      <th>RecvTime</th>\n",
       "      <th>oldRecvTime</th>\n",
       "      <th>SendTime</th>\n",
       "      <th>oldSendTime</th>\n",
       "      <th>diff</th>\n",
       "    </tr>\n",
       "  </thead>\n",
       "  <tbody>\n",
       "    <tr>\n",
       "      <th>0</th>\n",
       "      <td>52437</td>\n",
       "      <td>52437</td>\n",
       "      <td>52204</td>\n",
       "      <td>52189</td>\n",
       "      <td>-15</td>\n",
       "    </tr>\n",
       "    <tr>\n",
       "      <th>1</th>\n",
       "      <td>52437</td>\n",
       "      <td>52437</td>\n",
       "      <td>52219</td>\n",
       "      <td>52204</td>\n",
       "      <td>-15</td>\n",
       "    </tr>\n",
       "    <tr>\n",
       "      <th>2</th>\n",
       "      <td>52437</td>\n",
       "      <td>52437</td>\n",
       "      <td>52236</td>\n",
       "      <td>52219</td>\n",
       "      <td>-17</td>\n",
       "    </tr>\n",
       "    <tr>\n",
       "      <th>3</th>\n",
       "      <td>52437</td>\n",
       "      <td>52437</td>\n",
       "      <td>52255</td>\n",
       "      <td>52236</td>\n",
       "      <td>-19</td>\n",
       "    </tr>\n",
       "    <tr>\n",
       "      <th>4</th>\n",
       "      <td>52437</td>\n",
       "      <td>52437</td>\n",
       "      <td>52268</td>\n",
       "      <td>52255</td>\n",
       "      <td>-13</td>\n",
       "    </tr>\n",
       "  </tbody>\n",
       "</table>\n",
       "</div>"
      ],
      "text/plain": [
       "   RecvTime  oldRecvTime  SendTime  oldSendTime  diff\n",
       "0     52437        52437     52204        52189   -15\n",
       "1     52437        52437     52219        52204   -15\n",
       "2     52437        52437     52236        52219   -17\n",
       "3     52437        52437     52255        52236   -19\n",
       "4     52437        52437     52268        52255   -13"
      ]
     },
     "execution_count": 107,
     "metadata": {},
     "output_type": "execute_result"
    }
   ],
   "source": [
    "preFilter.head()"
   ]
  },
  {
   "cell_type": "code",
   "execution_count": 108,
   "metadata": {},
   "outputs": [
    {
     "data": {
      "image/png": "[encoded data removed]",
      "text/plain": [
       "<Figure size 432x288 with 1 Axes>"
      ]
     },
     "metadata": {
      "needs_background": "light"
     },
     "output_type": "display_data"
    }
   ],
   "source": [
    "fig, ax1 = plt.subplots()\n",
    "\n",
    "color = 'tab:red'\n",
    "ax1.set_xlabel('Порядковый номер')\n",
    "ax1.set_ylabel('diff', color=color)  # we already handled the x-label with ax1\n",
    "ax1.plot(preFilter[\"diff\"],color=color)\n",
    "plt.title(\"\"\"График построен на основе данных, при пропуске трафика через omnet, \n",
    "на 200 секунде, снизил пропускную до 500кбит, картинка начала потихоньку плыть\"\"\")\n",
    "plt.show()"
   ]
  },
  {
   "cell_type": "code",
   "execution_count": null,
   "metadata": {},
   "outputs": [],
   "source": []
  }
 ],
 "metadata": {
  "kernelspec": {
   "display_name": "Python 3",
   "language": "python",
   "name": "python3"
  },
  "language_info": {
   "codemirror_mode": {
    "name": "ipython",
    "version": 3
   },
   "file_extension": ".py",
   "mimetype": "text/x-python",
   "name": "python",
   "nbconvert_exporter": "python",
   "pygments_lexer": "ipython3",
   "version": "3.8.5"
  },
  "latex_envs": {
   "LaTeX_envs_menu_present": true,
   "autoclose": false,
   "autocomplete": true,
   "bibliofile": "biblio.bib",
   "cite_by": "apalike",
   "current_citInitial": 1,
   "eqLabelWithNumbers": true,
   "eqNumInitial": 1,
   "hotkeys": {
    "equation": "Ctrl-E",
    "itemize": "Ctrl-I"
   },
   "labels_anchors": false,
   "latex_user_defs": false,
   "report_style_numbering": false,
   "user_envs_cfg": false
  }
 },
 "nbformat": 4,
 "nbformat_minor": 4
}
