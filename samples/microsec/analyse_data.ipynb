{
 "cells": [
  {
   "cell_type": "code",
   "execution_count": 2,
   "metadata": {},
   "outputs": [],
   "source": [
    "import matplotlib.pyplot as plt\n",
    "import pandas as pd"
   ]
  },
  {
   "cell_type": "code",
   "execution_count": 3,
   "metadata": {},
   "outputs": [
    {
     "data": {
      "text/html": [
       "<div>\n",
       "<style scoped>\n",
       "    .dataframe tbody tr th:only-of-type {\n",
       "        vertical-align: middle;\n",
       "    }\n",
       "\n",
       "    .dataframe tbody tr th {\n",
       "        vertical-align: top;\n",
       "    }\n",
       "\n",
       "    .dataframe thead th {\n",
       "        text-align: right;\n",
       "    }\n",
       "</style>\n",
       "<table border=\"1\" class=\"dataframe\">\n",
       "  <thead>\n",
       "    <tr style=\"text-align: right;\">\n",
       "      <th></th>\n",
       "      <th>RecvTime</th>\n",
       "      <th>oldRecvTime</th>\n",
       "      <th>SendTime</th>\n",
       "      <th>oldSendTime</th>\n",
       "    </tr>\n",
       "  </thead>\n",
       "  <tbody>\n",
       "    <tr>\n",
       "      <th>0</th>\n",
       "      <td>25324960</td>\n",
       "      <td>25324960</td>\n",
       "      <td>25124436</td>\n",
       "      <td>25108576</td>\n",
       "    </tr>\n",
       "    <tr>\n",
       "      <th>1</th>\n",
       "      <td>25324993</td>\n",
       "      <td>25324960</td>\n",
       "      <td>25124452</td>\n",
       "      <td>25124436</td>\n",
       "    </tr>\n",
       "    <tr>\n",
       "      <th>2</th>\n",
       "      <td>25325009</td>\n",
       "      <td>25324993</td>\n",
       "      <td>25124469</td>\n",
       "      <td>25124452</td>\n",
       "    </tr>\n",
       "    <tr>\n",
       "      <th>3</th>\n",
       "      <td>25325009</td>\n",
       "      <td>25325009</td>\n",
       "      <td>25124469</td>\n",
       "      <td>25124469</td>\n",
       "    </tr>\n",
       "    <tr>\n",
       "      <th>4</th>\n",
       "      <td>25325025</td>\n",
       "      <td>25325009</td>\n",
       "      <td>25124485</td>\n",
       "      <td>25124469</td>\n",
       "    </tr>\n",
       "  </tbody>\n",
       "</table>\n",
       "</div>"
      ],
      "text/plain": [
       "   RecvTime  oldRecvTime  SendTime  oldSendTime\n",
       "0  25324960     25324960  25124436     25108576\n",
       "1  25324993     25324960  25124452     25124436\n",
       "2  25325009     25324993  25124469     25124452\n",
       "3  25325009     25325009  25124469     25124469\n",
       "4  25325025     25325009  25124485     25124469"
      ]
     },
     "execution_count": 3,
     "metadata": {},
     "output_type": "execute_result"
    }
   ],
   "source": [
    "df = pd.read_csv(\"onlocalhost.csv\")\n",
    "df.head()"
   ]
  },
  {
   "cell_type": "code",
   "execution_count": 4,
   "metadata": {},
   "outputs": [
    {
     "data": {
      "text/html": [
       "<div>\n",
       "<style scoped>\n",
       "    .dataframe tbody tr th:only-of-type {\n",
       "        vertical-align: middle;\n",
       "    }\n",
       "\n",
       "    .dataframe tbody tr th {\n",
       "        vertical-align: top;\n",
       "    }\n",
       "\n",
       "    .dataframe thead th {\n",
       "        text-align: right;\n",
       "    }\n",
       "</style>\n",
       "<table border=\"1\" class=\"dataframe\">\n",
       "  <thead>\n",
       "    <tr style=\"text-align: right;\">\n",
       "      <th></th>\n",
       "      <th>diff</th>\n",
       "    </tr>\n",
       "  </thead>\n",
       "  <tbody>\n",
       "    <tr>\n",
       "      <th>0</th>\n",
       "      <td>-15860</td>\n",
       "    </tr>\n",
       "    <tr>\n",
       "      <th>1</th>\n",
       "      <td>17</td>\n",
       "    </tr>\n",
       "    <tr>\n",
       "      <th>2</th>\n",
       "      <td>-1</td>\n",
       "    </tr>\n",
       "    <tr>\n",
       "      <th>3</th>\n",
       "      <td>0</td>\n",
       "    </tr>\n",
       "    <tr>\n",
       "      <th>4</th>\n",
       "      <td>0</td>\n",
       "    </tr>\n",
       "  </tbody>\n",
       "</table>\n",
       "</div>"
      ],
      "text/plain": [
       "    diff\n",
       "0 -15860\n",
       "1     17\n",
       "2     -1\n",
       "3      0\n",
       "4      0"
      ]
     },
     "execution_count": 4,
     "metadata": {},
     "output_type": "execute_result"
    }
   ],
   "source": [
    "diff = pd.DataFrame( {\"diff\":(df[\"RecvTime\"] - df[\"oldRecvTime\"] - (df[\"SendTime\"] - df[\"oldSendTime\"]))})\n",
    "diff = diff[(diff[\"diff\"] < 50000)]\n",
    "diff = diff[(diff[\"diff\"] > -50000)]\n",
    "diff.head()"
   ]
  },
  {
   "cell_type": "code",
   "execution_count": 5,
   "metadata": {},
   "outputs": [
    {
     "data": {
      "image/png": "[encoded data removed]",
      "text/plain": [
       "<Figure size 432x288 with 1 Axes>"
      ]
     },
     "metadata": {
      "needs_background": "light"
     },
     "output_type": "display_data"
    }
   ],
   "source": [
    "fig, ax1 = plt.subplots()\n",
    "\n",
    "color = 'tab:red'\n",
    "ax1.set_xlabel('Порядковый номер')\n",
    "ax1.set_ylabel('diff', color=color)  # we already handled the x-label with ax1\n",
    "ax1.plot(diff,color=color)\n",
    "plt.title(\"График построен на основе данных с localhost\")\n",
    "plt.show()"
   ]
  },
  {
   "cell_type": "code",
   "execution_count": 6,
   "metadata": {},
   "outputs": [
    {
     "data": {
      "text/html": [
       "<div>\n",
       "<style scoped>\n",
       "    .dataframe tbody tr th:only-of-type {\n",
       "        vertical-align: middle;\n",
       "    }\n",
       "\n",
       "    .dataframe tbody tr th {\n",
       "        vertical-align: top;\n",
       "    }\n",
       "\n",
       "    .dataframe thead th {\n",
       "        text-align: right;\n",
       "    }\n",
       "</style>\n",
       "<table border=\"1\" class=\"dataframe\">\n",
       "  <thead>\n",
       "    <tr style=\"text-align: right;\">\n",
       "      <th></th>\n",
       "      <th>RecvTime</th>\n",
       "      <th>oldRecvTime</th>\n",
       "      <th>SendTime</th>\n",
       "      <th>oldSendTime</th>\n",
       "    </tr>\n",
       "  </thead>\n",
       "  <tbody>\n",
       "    <tr>\n",
       "      <th>0</th>\n",
       "      <td>61190955</td>\n",
       "      <td>61190955</td>\n",
       "      <td>60953696</td>\n",
       "      <td>60953679</td>\n",
       "    </tr>\n",
       "    <tr>\n",
       "      <th>1</th>\n",
       "      <td>61190988</td>\n",
       "      <td>61190955</td>\n",
       "      <td>60953696</td>\n",
       "      <td>60953696</td>\n",
       "    </tr>\n",
       "    <tr>\n",
       "      <th>2</th>\n",
       "      <td>61190988</td>\n",
       "      <td>61190988</td>\n",
       "      <td>60953712</td>\n",
       "      <td>60953696</td>\n",
       "    </tr>\n",
       "    <tr>\n",
       "      <th>3</th>\n",
       "      <td>61190988</td>\n",
       "      <td>61190988</td>\n",
       "      <td>60953712</td>\n",
       "      <td>60953712</td>\n",
       "    </tr>\n",
       "    <tr>\n",
       "      <th>4</th>\n",
       "      <td>61190988</td>\n",
       "      <td>61190988</td>\n",
       "      <td>60953729</td>\n",
       "      <td>60953712</td>\n",
       "    </tr>\n",
       "  </tbody>\n",
       "</table>\n",
       "</div>"
      ],
      "text/plain": [
       "   RecvTime  oldRecvTime  SendTime  oldSendTime\n",
       "0  61190955     61190955  60953696     60953679\n",
       "1  61190988     61190955  60953696     60953696\n",
       "2  61190988     61190988  60953712     60953696\n",
       "3  61190988     61190988  60953712     60953712\n",
       "4  61190988     61190988  60953729     60953712"
      ]
     },
     "execution_count": 6,
     "metadata": {},
     "output_type": "execute_result"
    }
   ],
   "source": [
    "df = pd.read_csv(\"25mschannel.csv\")\n",
    "df.head()"
   ]
  },
  {
   "cell_type": "code",
   "execution_count": 8,
   "metadata": {},
   "outputs": [],
   "source": [
    "diff = pd.DataFrame( {\"diff\":(df[\"RecvTime\"] - df[\"oldRecvTime\"] - (df[\"SendTime\"] - df[\"oldSendTime\"]))})\n",
    "diff = diff[(diff[\"diff\"] < 50000)]\n",
    "diff = diff[(diff[\"diff\"] > -50000)]"
   ]
  },
  {
   "cell_type": "code",
   "execution_count": 9,
   "metadata": {},
   "outputs": [
    {
     "data": {
      "image/png": "[encoded data removed]",
      "text/plain": [
       "<Figure size 432x288 with 1 Axes>"
      ]
     },
     "metadata": {
      "needs_background": "light"
     },
     "output_type": "display_data"
    }
   ],
   "source": [
    "fig, ax1 = plt.subplots()\n",
    "\n",
    "color = 'tab:red'\n",
    "ax1.set_xlabel('Порядковый номер')\n",
    "ax1.set_ylabel('diff', color=color)  # we already handled the x-label with ax1\n",
    "ax1.plot(diff,color=color)\n",
    "\n",
    "plt.title(\"\"\"График построен на основе данных, при пропуске трафика через omnet, \n",
    "значение задержки канала было равно 25, а пинг был между 40 и 80\"\"\")\n",
    "plt.show()"
   ]
  },
  {
   "cell_type": "code",
   "execution_count": 10,
   "metadata": {},
   "outputs": [
    {
     "data": {
      "text/html": [
       "<div>\n",
       "<style scoped>\n",
       "    .dataframe tbody tr th:only-of-type {\n",
       "        vertical-align: middle;\n",
       "    }\n",
       "\n",
       "    .dataframe tbody tr th {\n",
       "        vertical-align: top;\n",
       "    }\n",
       "\n",
       "    .dataframe thead th {\n",
       "        text-align: right;\n",
       "    }\n",
       "</style>\n",
       "<table border=\"1\" class=\"dataframe\">\n",
       "  <thead>\n",
       "    <tr style=\"text-align: right;\">\n",
       "      <th></th>\n",
       "      <th>RecvTime</th>\n",
       "      <th>oldRecvTime</th>\n",
       "      <th>SendTime</th>\n",
       "      <th>oldSendTime</th>\n",
       "    </tr>\n",
       "  </thead>\n",
       "  <tbody>\n",
       "    <tr>\n",
       "      <th>0</th>\n",
       "      <td>39004030</td>\n",
       "      <td>39004030</td>\n",
       "      <td>38720601</td>\n",
       "      <td>38702775</td>\n",
       "    </tr>\n",
       "    <tr>\n",
       "      <th>1</th>\n",
       "      <td>39004079</td>\n",
       "      <td>39004030</td>\n",
       "      <td>38734642</td>\n",
       "      <td>38720601</td>\n",
       "    </tr>\n",
       "    <tr>\n",
       "      <th>2</th>\n",
       "      <td>39004096</td>\n",
       "      <td>39004079</td>\n",
       "      <td>38734658</td>\n",
       "      <td>38734642</td>\n",
       "    </tr>\n",
       "    <tr>\n",
       "      <th>3</th>\n",
       "      <td>39004096</td>\n",
       "      <td>39004096</td>\n",
       "      <td>38734674</td>\n",
       "      <td>38734658</td>\n",
       "    </tr>\n",
       "    <tr>\n",
       "      <th>4</th>\n",
       "      <td>39004112</td>\n",
       "      <td>39004096</td>\n",
       "      <td>38734691</td>\n",
       "      <td>38734674</td>\n",
       "    </tr>\n",
       "  </tbody>\n",
       "</table>\n",
       "</div>"
      ],
      "text/plain": [
       "   RecvTime  oldRecvTime  SendTime  oldSendTime\n",
       "0  39004030     39004030  38720601     38702775\n",
       "1  39004079     39004030  38734642     38720601\n",
       "2  39004096     39004079  38734658     38734642\n",
       "3  39004096     39004096  38734674     38734658\n",
       "4  39004112     39004096  38734691     38734674"
      ]
     },
     "execution_count": 10,
     "metadata": {},
     "output_type": "execute_result"
    }
   ],
   "source": [
    "df = pd.read_csv(\"70mschannel.csv\")\n",
    "df.head()"
   ]
  },
  {
   "cell_type": "code",
   "execution_count": 11,
   "metadata": {},
   "outputs": [],
   "source": [
    "diff = pd.DataFrame( {\"diff\":(df[\"RecvTime\"] - df[\"oldRecvTime\"] - (df[\"SendTime\"] - df[\"oldSendTime\"]))})\n",
    "diff = diff[(diff[\"diff\"] < 50000)]\n",
    "diff = diff[(diff[\"diff\"] > -50000)]"
   ]
  },
  {
   "cell_type": "code",
   "execution_count": 12,
   "metadata": {},
   "outputs": [
    {
     "data": {
      "image/png": "[encoded data removed]",
      "text/plain": [
       "<Figure size 432x288 with 1 Axes>"
      ]
     },
     "metadata": {
      "needs_background": "light"
     },
     "output_type": "display_data"
    }
   ],
   "source": [
    "fig, ax1 = plt.subplots()\n",
    "\n",
    "color = 'tab:red'\n",
    "ax1.set_xlabel('Порядковый номер')\n",
    "ax1.set_ylabel('diff', color=color)  # we already handled the x-label with ax1\n",
    "ax1.plot(diff,color=color)\n",
    "plt.title(\"\"\"График построен на основе данных, при пропуске трафика через omnet, \n",
    "значение задержки канала равно 70, пинг между 150 и 190\"\"\")\n",
    "plt.show()\n"
   ]
  },
  {
   "cell_type": "code",
   "execution_count": 16,
   "metadata": {},
   "outputs": [
    {
     "data": {
      "text/html": [
       "<div>\n",
       "<style scoped>\n",
       "    .dataframe tbody tr th:only-of-type {\n",
       "        vertical-align: middle;\n",
       "    }\n",
       "\n",
       "    .dataframe tbody tr th {\n",
       "        vertical-align: top;\n",
       "    }\n",
       "\n",
       "    .dataframe thead th {\n",
       "        text-align: right;\n",
       "    }\n",
       "</style>\n",
       "<table border=\"1\" class=\"dataframe\">\n",
       "  <thead>\n",
       "    <tr style=\"text-align: right;\">\n",
       "      <th></th>\n",
       "      <th>RecvTime</th>\n",
       "      <th>oldRecvTime</th>\n",
       "      <th>SendTime</th>\n",
       "      <th>oldSendTime</th>\n",
       "    </tr>\n",
       "  </thead>\n",
       "  <tbody>\n",
       "    <tr>\n",
       "      <th>0</th>\n",
       "      <td>46682409</td>\n",
       "      <td>46682393</td>\n",
       "      <td>46460505</td>\n",
       "      <td>46441073</td>\n",
       "    </tr>\n",
       "    <tr>\n",
       "      <th>1</th>\n",
       "      <td>46682475</td>\n",
       "      <td>46682409</td>\n",
       "      <td>46473006</td>\n",
       "      <td>46460505</td>\n",
       "    </tr>\n",
       "    <tr>\n",
       "      <th>2</th>\n",
       "      <td>46682491</td>\n",
       "      <td>46682475</td>\n",
       "      <td>46473022</td>\n",
       "      <td>46473006</td>\n",
       "    </tr>\n",
       "    <tr>\n",
       "      <th>3</th>\n",
       "      <td>46682491</td>\n",
       "      <td>46682491</td>\n",
       "      <td>46473038</td>\n",
       "      <td>46473022</td>\n",
       "    </tr>\n",
       "    <tr>\n",
       "      <th>4</th>\n",
       "      <td>46682508</td>\n",
       "      <td>46682491</td>\n",
       "      <td>46473038</td>\n",
       "      <td>46473038</td>\n",
       "    </tr>\n",
       "  </tbody>\n",
       "</table>\n",
       "</div>"
      ],
      "text/plain": [
       "   RecvTime  oldRecvTime  SendTime  oldSendTime\n",
       "0  46682409     46682393  46460505     46441073\n",
       "1  46682475     46682409  46473006     46460505\n",
       "2  46682491     46682475  46473022     46473006\n",
       "3  46682491     46682491  46473038     46473022\n",
       "4  46682508     46682491  46473038     46473038"
      ]
     },
     "execution_count": 16,
     "metadata": {},
     "output_type": "execute_result"
    }
   ],
   "source": [
    "df = pd.read_csv(\"500rate.csv\")\n",
    "df.head()"
   ]
  },
  {
   "cell_type": "code",
   "execution_count": 19,
   "metadata": {},
   "outputs": [],
   "source": [
    "diff = pd.DataFrame( {\"diff\":(df[\"RecvTime\"] - df[\"oldRecvTime\"] - (df[\"SendTime\"] - df[\"oldSendTime\"]))})\n",
    "diff = diff[(diff[\"diff\"] < 200000)]\n",
    "diff = diff[(diff[\"diff\"] > -200000)]"
   ]
  },
  {
   "cell_type": "code",
   "execution_count": 20,
   "metadata": {},
   "outputs": [
    {
     "data": {
      "image/png": "[encoded data removed]",
      "text/plain": [
       "<Figure size 432x288 with 1 Axes>"
      ]
     },
     "metadata": {
      "needs_background": "light"
     },
     "output_type": "display_data"
    }
   ],
   "source": [
    "fig, ax1 = plt.subplots()\n",
    "\n",
    "color = 'tab:red'\n",
    "ax1.set_xlabel('Порядковый номер')\n",
    "ax1.set_ylabel('diff', color=color)  # we already handled the x-label with ax1\n",
    "ax1.plot(diff,color=color)\n",
    "plt.title(\"\"\"График построен на основе данных, при пропуске трафика через omnet, \n",
    "на 200 секунде, снизил пропускную до 500кбит, картинка начала потихоньку плыть\"\"\")\n",
    "plt.show()"
   ]
  },
  {
   "cell_type": "code",
   "execution_count": null,
   "metadata": {},
   "outputs": [],
   "source": []
  }
 ],
 "metadata": {
  "kernelspec": {
   "display_name": "Python 3",
   "language": "python",
   "name": "python3"
  },
  "language_info": {
   "codemirror_mode": {
    "name": "ipython",
    "version": 3
   },
   "file_extension": ".py",
   "mimetype": "text/x-python",
   "name": "python",
   "nbconvert_exporter": "python",
   "pygments_lexer": "ipython3",
   "version": "3.8.5"
  },
  "latex_envs": {
   "LaTeX_envs_menu_present": true,
   "autoclose": false,
   "autocomplete": true,
   "bibliofile": "biblio.bib",
   "cite_by": "apalike",
   "current_citInitial": 1,
   "eqLabelWithNumbers": true,
   "eqNumInitial": 1,
   "hotkeys": {
    "equation": "Ctrl-E",
    "itemize": "Ctrl-I"
   },
   "labels_anchors": false,
   "latex_user_defs": false,
   "report_style_numbering": false,
   "user_envs_cfg": false
  }
 },
 "nbformat": 4,
 "nbformat_minor": 4
}
